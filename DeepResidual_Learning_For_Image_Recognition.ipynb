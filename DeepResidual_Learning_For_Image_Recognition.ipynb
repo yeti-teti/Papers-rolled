{
 "cells": [
  {
   "cell_type": "code",
   "execution_count": 2,
   "metadata": {},
   "outputs": [],
   "source": [
    "\n",
    "import torch\n",
    "from torch import nn\n"
   ]
  },
  {
   "cell_type": "markdown",
   "metadata": {},
   "source": [
    "##### Shortcut Projection lienar projection"
   ]
  },
  {
   "cell_type": "code",
   "execution_count": 3,
   "metadata": {},
   "outputs": [],
   "source": [
    "class ShortcutProjection(nn.Module):\n",
    "    def __init__(self, in_channels: int, out_channels: int, stride: int):\n",
    "        super(ShortcutProjection, self).__init__()\n",
    "        self.conv = nn.Conv2d(in_channels, out_channels, kernel_size=1, stride=stride)\n",
    "        self.bn = nn.BatchNorm2d(out_channels)\n",
    "\n",
    "    def forward(self, x: torch.Tensor):\n",
    "        return self.bn(self.conv(x))"
   ]
  },
  {
   "cell_type": "markdown",
   "metadata": {},
   "source": [
    "##### Residual Block"
   ]
  },
  {
   "cell_type": "code",
   "execution_count": 4,
   "metadata": {},
   "outputs": [],
   "source": [
    "class ResidualBlock(nn.Module):\n",
    "    def __init__(self, in_channels: int, out_channels: int, stride: int):\n",
    "        super(ResidualBlock, self).__init__()\n",
    "        \n",
    "        self.conv1 = nn.Conv2d(in_channels, out_channels, kernel_size=3, stride=stride, padding=1)\n",
    "        self.bn1 = nn.BatchNorm2d(out_channels)\n",
    "        self.rl1 = nn.ReLU()\n",
    "\n",
    "        self.conv2 = nn.Conv2d(out_channels, out_channels, kernel_size=3, stride=1, padding=1)\n",
    "        self.bn2 = nn.BatchNorm2d(out_channels)\n",
    "        self.rl2 = nn.ReLU()\n",
    "\n",
    "        if( stride != 1 or in_channels != out_channels):\n",
    "            self.shorcut = ShortcutProjection(in_channels, out_channels, stride)\n",
    "        else:\n",
    "            self.shorcut = nn.Identity()\n",
    "\n",
    "        self.rl2 = nn.ReLU()\n",
    "\n",
    "    def forward(self, x: torch.Tensor):\n",
    "\n",
    "        shortcut = self.shorcut(x)\n",
    "        x = self.rl1(self.bn1(self.conv1(x)))\n",
    "        x = self.bn2(self.conv2(x))\n",
    "\n",
    "        return self.rl2(x + shortcut) "
   ]
  },
  {
   "cell_type": "code",
   "execution_count": null,
   "metadata": {},
   "outputs": [],
   "source": [
    "class BottleneckResidualBlock(nn.Module):\n",
    "    def __init__(self, in_channels: int, bottlneck_channels: int, out_channels: int, stride: int):\n",
    "        super(BottleneckResidualBlock, self).__init__()\n",
    "\n",
    "        self.conv1 = nn.Conv2d(in_channels, out_channels, kernel_size=1, stride=1)\n",
    "        self.bn1 = nn.BatchNorm2d(bottlneck_channels)\n",
    "        self.rl1 = nn.ReLU()\n",
    "\n",
    "        self.conv2 = nn.Conv2d(bottlneck_channels, bottlneck_channels, kernel_size=3, stride=1, padding=1)\n",
    "        self.bn2 = nn.BatchNorm2d(bottlneck_channels)\n",
    "        self.rl2 = nn.ReLU()\n",
    "\n",
    "        self.conv3 = nn.Conv2d(bottlneck_channels, out_channels, kernel_size=1, stride=1)\n",
    "        self.bn3 = nn.BatchNorm2d(out_channels)\n",
    "\n",
    "        if( stride != 1 or in_channels != out_channels):\n",
    "            self.shorcut = ShortcutProjection(in_channels, out_channels, stride)\n",
    "        else:\n",
    "            self.shorcut = nn.Identity()\n",
    "\n",
    "        self.rl3 = nn.ReLU()\n",
    "\n",
    "    def forward(self, x: torch.Tensor):\n",
    "\n",
    "        shortcut = self.shorcut(x)\n",
    "\n",
    "        x = self.rl1(self.bn1(self.conv1(x)))\n",
    "        x = self.rl2(self.bn2(self.conv2(x)))\n",
    "        x = self.bn3(self.conv3(x))\n",
    "\n",
    "        return self.rl2(x + shortcut)"
   ]
  },
  {
   "cell_type": "markdown",
   "metadata": {},
   "source": [
    "##### ResNet MODEL"
   ]
  },
  {
   "cell_type": "code",
   "execution_count": 29,
   "metadata": {},
   "outputs": [],
   "source": [
    "class ResNet(nn.Module):\n",
    "    def __init__(self, n_blocks: list[int], n_channels: list[int], bottlenecks: list[int] | None, img_channels: int = 3, first_kernel_size: int = 7):\n",
    "        super(ResNet, self).__init__()\n",
    "\n",
    "        assert len(n_blocks) == len(n_channels)\n",
    "        assert bottlenecks is None or len(bottlenecks) == len(n_channels)\n",
    "\n",
    "        self.conv = nn.Conv2d(\n",
    "            img_channels, \n",
    "            n_channels[0], \n",
    "            kernel_size=first_kernel_size, \n",
    "            stride=2, \n",
    "            padding=first_kernel_size // 2\n",
    "        )\n",
    "\n",
    "        self.bn = nn.BatchNorm2d(n_channels[0])\n",
    "        blocks = []\n",
    "\n",
    "        prev_channels = n_channels[0]\n",
    "\n",
    "        for i, channels in enumerate(n_channels):\n",
    "            stride = 2 if len(blocks) == 0 else 1\n",
    "\n",
    "            if bottlenecks is None:\n",
    "                blocks.append(ResidualBlock(prev_channels, channels, stride=stride))\n",
    "            else:\n",
    "                blocks.append(BottleneckResidualBlock(prev_channels, bottlenecks[i], channels, stride=stride))\n",
    "            \n",
    "            prev_channels = channels\n",
    "\n",
    "            for _ in range(n_blocks[i] - 1):\n",
    "                if bottlenecks is None:\n",
    "                    blocks.append(ResidualBlock(prev_channels, channels, stride=stride))\n",
    "                else:\n",
    "                    blocks.append(BottleneckResidualBlock(prev_channels, bottlenecks[i], channels, stride=stride))\n",
    "            \n",
    "        self.blocks = nn.Sequential(*blocks)\n",
    "\n",
    "    def forward(self, x: torch.Tensor):\n",
    "\n",
    "        x = self.bn(self.conv(x))\n",
    "        x = self.blocks(x)\n",
    "        x = x.view(x.shape[0], x.shape[1], -1)\n",
    "\n",
    "        return x.mean(dim=-1)\n",
    "\n",
    "\n"
   ]
  },
  {
   "cell_type": "code",
   "execution_count": null,
   "metadata": {},
   "outputs": [],
   "source": []
  }
 ],
 "metadata": {
  "kernelspec": {
   "display_name": "py",
   "language": "python",
   "name": "python3"
  },
  "language_info": {
   "codemirror_mode": {
    "name": "ipython",
    "version": 3
   },
   "file_extension": ".py",
   "mimetype": "text/x-python",
   "name": "python",
   "nbconvert_exporter": "python",
   "pygments_lexer": "ipython3",
   "version": "3.12.6"
  }
 },
 "nbformat": 4,
 "nbformat_minor": 2
}
