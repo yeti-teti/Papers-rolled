{
 "cells": [
  {
   "cell_type": "code",
   "execution_count": null,
   "metadata": {},
   "outputs": [],
   "source": [
    "import math\n",
    "\n",
    "import numpy as np\n",
    "\n",
    "import torch\n",
    "from torch import nn\n",
    "\n",
    "from tinygrad import Tensor\n",
    "from tinygrad import nn as nn_tg\n"
   ]
  },
  {
   "cell_type": "markdown",
   "metadata": {},
   "source": [
    "### GELU"
   ]
  },
  {
   "cell_type": "code",
   "execution_count": null,
   "metadata": {},
   "outputs": [],
   "source": [
    "## Custom\n",
    "input = torch.tensor([-3., -2., -1., 0., 1., 2., 3.])\n",
    "gelu_py = 0.5 * input * (1.0 + torch.tanh( math.sqrt(2.0/math.pi) * (input + (0.044715 * (np.power(input, 3.0) )) )) ) \n",
    "print(gelu_py)\n",
    "\n",
    "## Pytorch\n",
    "#input = torch.randn(2)\n",
    "input = torch.tensor([[-3., -2., -1., 0., 1., 2., 3.]])\n",
    "print(f\"Input:{input}\")\n",
    "gelu_pt = nn.GELU()\n",
    "print(gelu_pt(input))\n",
    "gelu_pt = nn.GELU(approximate='tanh')\n",
    "print(gelu_pt(input))\n",
    "\n",
    "\n",
    "## Tinygrad\n",
    "print(Tensor([-3., -2., -1., 0., 1., 2., 3.]).gelu().numpy()) # GELU\n",
    "print(Tensor([[-3., -2., -1., 0., 1., 2., 3.]]).quick_gelu().numpy()) # Quick_GELU\n"
   ]
  },
  {
   "cell_type": "code",
   "execution_count": null,
   "metadata": {},
   "outputs": [],
   "source": []
  },
  {
   "cell_type": "code",
   "execution_count": null,
   "metadata": {},
   "outputs": [],
   "source": []
  },
  {
   "cell_type": "code",
   "execution_count": null,
   "metadata": {},
   "outputs": [],
   "source": []
  }
 ],
 "metadata": {
  "language_info": {
   "name": "python"
  }
 },
 "nbformat": 4,
 "nbformat_minor": 2
}
