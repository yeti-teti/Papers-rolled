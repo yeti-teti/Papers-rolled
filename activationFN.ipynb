{
 "cells": [
  {
   "cell_type": "code",
   "execution_count": 7,
   "metadata": {},
   "outputs": [
    {
     "ename": "ImportError",
     "evalue": "cannot import name 'Tensor' from 'tinygrad' (/Users/saugatmalla/Documents/Projects/tinygrad/tinygrad/tinygrad/__init__.py)",
     "output_type": "error",
     "traceback": [
      "\u001b[0;31m---------------------------------------------------------------------------\u001b[0m",
      "\u001b[0;31mImportError\u001b[0m                               Traceback (most recent call last)",
      "Cell \u001b[0;32mIn[7], line 8\u001b[0m\n\u001b[1;32m      5\u001b[0m \u001b[38;5;28;01mimport\u001b[39;00m \u001b[38;5;21;01mtorch\u001b[39;00m\n\u001b[1;32m      6\u001b[0m \u001b[38;5;28;01mfrom\u001b[39;00m \u001b[38;5;21;01mtorch\u001b[39;00m \u001b[38;5;28;01mimport\u001b[39;00m nn\n\u001b[0;32m----> 8\u001b[0m \u001b[38;5;28;01mfrom\u001b[39;00m \u001b[38;5;21;01mtinygrad\u001b[39;00m \u001b[38;5;28;01mimport\u001b[39;00m Tensor\n\u001b[1;32m      9\u001b[0m \u001b[38;5;28;01mfrom\u001b[39;00m \u001b[38;5;21;01mtinygrad\u001b[39;00m \u001b[38;5;28;01mimport\u001b[39;00m nn \u001b[38;5;28;01mas\u001b[39;00m nn_tg\n",
      "\u001b[0;31mImportError\u001b[0m: cannot import name 'Tensor' from 'tinygrad' (/Users/saugatmalla/Documents/Projects/tinygrad/tinygrad/tinygrad/__init__.py)"
     ]
    }
   ],
   "source": [
    "import math\n",
    "\n",
    "import numpy as np\n",
    "\n",
    "import torch\n",
    "from torch import nn\n",
    "\n",
    "from tinygrad import Tensor\n",
    "from tinygrad import nn as nn_tg\n"
   ]
  },
  {
   "cell_type": "markdown",
   "metadata": {},
   "source": [
    "### GELU"
   ]
  },
  {
   "cell_type": "code",
   "execution_count": null,
   "metadata": {},
   "outputs": [],
   "source": []
  },
  {
   "cell_type": "code",
   "execution_count": 8,
   "metadata": {},
   "outputs": [
    {
     "name": "stdout",
     "output_type": "stream",
     "text": [
      "tensor([-0.0036, -0.0454, -0.1588,  0.0000,  0.8412,  1.9546,  2.9964])\n",
      "Input:tensor([[-3., -2., -1.,  0.,  1.,  2.,  3.]])\n",
      "tensor([[-0.0040, -0.0455, -0.1587,  0.0000,  0.8413,  1.9545,  2.9960]])\n",
      "tensor([[-0.0036, -0.0454, -0.1588,  0.0000,  0.8412,  1.9546,  2.9964]])\n"
     ]
    },
    {
     "ename": "NameError",
     "evalue": "name 'Tensor' is not defined",
     "output_type": "error",
     "traceback": [
      "\u001b[0;31m---------------------------------------------------------------------------\u001b[0m",
      "\u001b[0;31mNameError\u001b[0m                                 Traceback (most recent call last)",
      "Cell \u001b[0;32mIn[8], line 17\u001b[0m\n\u001b[1;32m     13\u001b[0m \u001b[38;5;28mprint\u001b[39m(gelu_pt(\u001b[38;5;28minput\u001b[39m))\n\u001b[1;32m     16\u001b[0m \u001b[38;5;66;03m## Tinygrad\u001b[39;00m\n\u001b[0;32m---> 17\u001b[0m \u001b[38;5;28mprint\u001b[39m(\u001b[43mTensor\u001b[49m([\u001b[38;5;241m-\u001b[39m\u001b[38;5;241m3.\u001b[39m, \u001b[38;5;241m-\u001b[39m\u001b[38;5;241m2.\u001b[39m, \u001b[38;5;241m-\u001b[39m\u001b[38;5;241m1.\u001b[39m, \u001b[38;5;241m0.\u001b[39m, \u001b[38;5;241m1.\u001b[39m, \u001b[38;5;241m2.\u001b[39m, \u001b[38;5;241m3.\u001b[39m])\u001b[38;5;241m.\u001b[39mgelu()\u001b[38;5;241m.\u001b[39mnumpy()) \u001b[38;5;66;03m# GELU\u001b[39;00m\n\u001b[1;32m     18\u001b[0m \u001b[38;5;28mprint\u001b[39m(Tensor([[\u001b[38;5;241m-\u001b[39m\u001b[38;5;241m3.\u001b[39m, \u001b[38;5;241m-\u001b[39m\u001b[38;5;241m2.\u001b[39m, \u001b[38;5;241m-\u001b[39m\u001b[38;5;241m1.\u001b[39m, \u001b[38;5;241m0.\u001b[39m, \u001b[38;5;241m1.\u001b[39m, \u001b[38;5;241m2.\u001b[39m, \u001b[38;5;241m3.\u001b[39m]])\u001b[38;5;241m.\u001b[39mquick_gelu()\u001b[38;5;241m.\u001b[39mnumpy()) \u001b[38;5;66;03m# Quick_GELU\u001b[39;00m\n",
      "\u001b[0;31mNameError\u001b[0m: name 'Tensor' is not defined"
     ]
    }
   ],
   "source": [
    "## Custom\n",
    "input = torch.tensor([-3., -2., -1., 0., 1., 2., 3.])\n",
    "gelu_py = 0.5 * input * (1.0 + torch.tanh( math.sqrt(2.0/math.pi) * (input + (0.044715 * (np.power(input, 3.0) )) )) ) \n",
    "print(gelu_py)\n",
    "\n",
    "## Pytorch\n",
    "#input = torch.randn(2)\n",
    "input = torch.tensor([[-3., -2., -1., 0., 1., 2., 3.]])\n",
    "print(f\"Input:{input}\")\n",
    "gelu_pt = nn.GELU()\n",
    "print(gelu_pt(input))\n",
    "gelu_pt = nn.GELU(approximate='tanh')\n",
    "print(gelu_pt(input))\n",
    "\n",
    "\n",
    "## Tinygrad\n",
    "print(Tensor([-3., -2., -1., 0., 1., 2., 3.]).gelu().numpy()) # GELU\n",
    "print(Tensor([[-3., -2., -1., 0., 1., 2., 3.]]).quick_gelu().numpy()) # Quick_GELU\n"
   ]
  },
  {
   "cell_type": "code",
   "execution_count": null,
   "metadata": {},
   "outputs": [],
   "source": []
  },
  {
   "cell_type": "code",
   "execution_count": null,
   "metadata": {},
   "outputs": [],
   "source": []
  },
  {
   "cell_type": "code",
   "execution_count": null,
   "metadata": {},
   "outputs": [],
   "source": []
  }
 ],
 "metadata": {
  "kernelspec": {
   "display_name": "py",
   "language": "python",
   "name": "python3"
  },
  "language_info": {
   "codemirror_mode": {
    "name": "ipython",
    "version": 3
   },
   "file_extension": ".py",
   "mimetype": "text/x-python",
   "name": "python",
   "nbconvert_exporter": "python",
   "pygments_lexer": "ipython3",
   "version": "3.12.6"
  }
 },
 "nbformat": 4,
 "nbformat_minor": 2
}
